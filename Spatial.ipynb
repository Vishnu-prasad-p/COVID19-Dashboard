{
 "cells": [
  {
   "cell_type": "code",
   "execution_count": 22,
   "metadata": {},
   "outputs": [],
   "source": [
    "import pandas as pd\n",
    "import numpy as np"
   ]
  },
  {
   "cell_type": "code",
   "execution_count": 23,
   "metadata": {},
   "outputs": [
    {
     "data": {
      "text/plain": [
       "'/Users/apple/GIT/COVID19-Dashboard'"
      ]
     },
     "execution_count": 23,
     "metadata": {},
     "output_type": "execute_result"
    }
   ],
   "source": [
    "import pathlib\n",
    "str(pathlib.Path().absolute())"
   ]
  },
  {
   "cell_type": "code",
   "execution_count": 279,
   "metadata": {},
   "outputs": [],
   "source": [
    "df = pd.read_excel(str(pathlib.Path().absolute())+\"/Data/Bengaluru.xls\")"
   ]
  },
  {
   "cell_type": "code",
   "execution_count": 280,
   "metadata": {},
   "outputs": [
    {
     "data": {
      "text/html": [
       "<div>\n",
       "<style scoped>\n",
       "    .dataframe tbody tr th:only-of-type {\n",
       "        vertical-align: middle;\n",
       "    }\n",
       "\n",
       "    .dataframe tbody tr th {\n",
       "        vertical-align: top;\n",
       "    }\n",
       "\n",
       "    .dataframe thead th {\n",
       "        text-align: right;\n",
       "    }\n",
       "</style>\n",
       "<table border=\"1\" class=\"dataframe\">\n",
       "  <thead>\n",
       "    <tr style=\"text-align: right;\">\n",
       "      <th></th>\n",
       "      <th>S.No.</th>\n",
       "      <th>Date of Arrival</th>\n",
       "      <th>Date until Quarantined at home</th>\n",
       "      <th>Port of Origin of journey</th>\n",
       "      <th>Port of Final Destination</th>\n",
       "      <th>House No</th>\n",
       "      <th>Street/ Village</th>\n",
       "      <th>Tehsil</th>\n",
       "      <th>District/ City</th>\n",
       "      <th>State</th>\n",
       "      <th>PIN</th>\n",
       "      <th>Final District/ City</th>\n",
       "    </tr>\n",
       "  </thead>\n",
       "  <tbody>\n",
       "    <tr>\n",
       "      <th>0</th>\n",
       "      <td>1</td>\n",
       "      <td>2020-03-23</td>\n",
       "      <td>2020-04-06</td>\n",
       "      <td>Dubai</td>\n",
       "      <td>Bangalore</td>\n",
       "      <td>22</td>\n",
       "      <td>Koramangala</td>\n",
       "      <td>NaN</td>\n",
       "      <td>Bangalore</td>\n",
       "      <td>Karnataka</td>\n",
       "      <td>560034</td>\n",
       "      <td>Bengaluru (Urban, Rural &amp; BBMP)</td>\n",
       "    </tr>\n",
       "    <tr>\n",
       "      <th>1</th>\n",
       "      <td>2</td>\n",
       "      <td>2020-03-22</td>\n",
       "      <td>2020-04-05</td>\n",
       "      <td>Dubai</td>\n",
       "      <td>Bangalore</td>\n",
       "      <td>201 A</td>\n",
       "      <td>22nd A cross, 17 A cross,</td>\n",
       "      <td>3rd sector, HSR layout</td>\n",
       "      <td>Bangalore</td>\n",
       "      <td>Karnataka</td>\n",
       "      <td>560102</td>\n",
       "      <td>Bengaluru (Urban, Rural &amp; BBMP)</td>\n",
       "    </tr>\n",
       "    <tr>\n",
       "      <th>2</th>\n",
       "      <td>3</td>\n",
       "      <td>2020-03-22</td>\n",
       "      <td>2020-04-05</td>\n",
       "      <td>Los Angeles</td>\n",
       "      <td>Bangalore</td>\n",
       "      <td>Parinitha</td>\n",
       "      <td>Jairam estate, Jakkur</td>\n",
       "      <td>NaN</td>\n",
       "      <td>Bangalore</td>\n",
       "      <td>Karnataka</td>\n",
       "      <td>560064</td>\n",
       "      <td>Bengaluru (Urban, Rural &amp; BBMP)</td>\n",
       "    </tr>\n",
       "    <tr>\n",
       "      <th>3</th>\n",
       "      <td>4</td>\n",
       "      <td>2020-03-22</td>\n",
       "      <td>2020-04-05</td>\n",
       "      <td>Dubai</td>\n",
       "      <td>Bangalore</td>\n",
       "      <td>2038</td>\n",
       "      <td>Indiranagar</td>\n",
       "      <td>HAL 2nd stage</td>\n",
       "      <td>Bangalore</td>\n",
       "      <td>Karnataka</td>\n",
       "      <td>560008</td>\n",
       "      <td>Bengaluru (Urban, Rural &amp; BBMP)</td>\n",
       "    </tr>\n",
       "    <tr>\n",
       "      <th>4</th>\n",
       "      <td>5</td>\n",
       "      <td>2020-03-22</td>\n",
       "      <td>2020-04-05</td>\n",
       "      <td>Seattle</td>\n",
       "      <td>Bangalore</td>\n",
       "      <td>71</td>\n",
       "      <td>GP Rajarampur 9th main</td>\n",
       "      <td>Hanumanthnagar</td>\n",
       "      <td>Bangalore</td>\n",
       "      <td>Karnataka</td>\n",
       "      <td>560019</td>\n",
       "      <td>Bengaluru (Urban, Rural &amp; BBMP)</td>\n",
       "    </tr>\n",
       "  </tbody>\n",
       "</table>\n",
       "</div>"
      ],
      "text/plain": [
       "   S.No. Date of Arrival Date until Quarantined at home  \\\n",
       "0      1      2020-03-23                     2020-04-06   \n",
       "1      2      2020-03-22                     2020-04-05   \n",
       "2      3      2020-03-22                     2020-04-05   \n",
       "3      4      2020-03-22                     2020-04-05   \n",
       "4      5      2020-03-22                     2020-04-05   \n",
       "\n",
       "  Port of Origin of journey Port of Final Destination   House No  \\\n",
       "0                     Dubai                Bangalore          22   \n",
       "1                     Dubai                 Bangalore      201 A   \n",
       "2               Los Angeles                 Bangalore  Parinitha   \n",
       "3                     Dubai                 Bangalore       2038   \n",
       "4                   Seattle                 Bangalore         71   \n",
       "\n",
       "              Street/ Village                  Tehsil District/ City  \\\n",
       "0                 Koramangala                     NaN     Bangalore    \n",
       "1  22nd A cross, 17 A cross,   3rd sector, HSR layout      Bangalore   \n",
       "2       Jairam estate, Jakkur                     NaN      Bangalore   \n",
       "3                 Indiranagar           HAL 2nd stage      Bangalore   \n",
       "4      GP Rajarampur 9th main          Hanumanthnagar      Bangalore   \n",
       "\n",
       "       State     PIN             Final District/ City  \n",
       "0  Karnataka  560034  Bengaluru (Urban, Rural & BBMP)  \n",
       "1  Karnataka  560102  Bengaluru (Urban, Rural & BBMP)  \n",
       "2  Karnataka  560064  Bengaluru (Urban, Rural & BBMP)  \n",
       "3  Karnataka  560008  Bengaluru (Urban, Rural & BBMP)  \n",
       "4  Karnataka  560019  Bengaluru (Urban, Rural & BBMP)  "
      ]
     },
     "execution_count": 280,
     "metadata": {},
     "output_type": "execute_result"
    }
   ],
   "source": [
    "df.head()"
   ]
  },
  {
   "cell_type": "code",
   "execution_count": 281,
   "metadata": {},
   "outputs": [
    {
     "data": {
      "text/plain": [
       "True"
      ]
     },
     "execution_count": 281,
     "metadata": {},
     "output_type": "execute_result"
    }
   ],
   "source": [
    "df['S.No.'].is_unique"
   ]
  },
  {
   "cell_type": "code",
   "execution_count": 282,
   "metadata": {},
   "outputs": [],
   "source": [
    "df = df.set_index('S.No.')"
   ]
  },
  {
   "cell_type": "code",
   "execution_count": 283,
   "metadata": {},
   "outputs": [],
   "source": [
    "df=df.dropna(subset=['PIN'])"
   ]
  },
  {
   "cell_type": "code",
   "execution_count": 286,
   "metadata": {},
   "outputs": [
    {
     "ename": "TypeError",
     "evalue": "unhashable type: 'list'",
     "output_type": "error",
     "traceback": [
      "\u001b[0;31m---------------------------------------------------------------------------\u001b[0m",
      "\u001b[0;31mTypeError\u001b[0m                                 Traceback (most recent call last)",
      "\u001b[0;32m<ipython-input-286-bdc323fcd52b>\u001b[0m in \u001b[0;36m<module>\u001b[0;34m\u001b[0m\n\u001b[0;32m----> 1\u001b[0;31m \u001b[0mdf\u001b[0m\u001b[0;34m.\u001b[0m\u001b[0mdrop\u001b[0m\u001b[0;34m(\u001b[0m\u001b[0;34m[\u001b[0m\u001b[0mdf\u001b[0m\u001b[0;34m[\u001b[0m\u001b[0;34m'PIN'\u001b[0m\u001b[0;34m]\u001b[0m \u001b[0;34m==\u001b[0m \u001b[0;34m'-'\u001b[0m \u001b[0;34m]\u001b[0m\u001b[0;34m.\u001b[0m\u001b[0mindex\u001b[0m \u001b[0;34m,\u001b[0m \u001b[0minplace\u001b[0m\u001b[0;34m=\u001b[0m\u001b[0;32mTrue\u001b[0m\u001b[0;34m)\u001b[0m\u001b[0;34m\u001b[0m\u001b[0m\n\u001b[0m",
      "\u001b[0;32m/anaconda3/lib/python3.6/site-packages/pandas/core/frame.py\u001b[0m in \u001b[0;36mdrop\u001b[0;34m(self, labels, axis, index, columns, level, inplace, errors)\u001b[0m\n\u001b[1;32m   3938\u001b[0m                                            \u001b[0mindex\u001b[0m\u001b[0;34m=\u001b[0m\u001b[0mindex\u001b[0m\u001b[0;34m,\u001b[0m \u001b[0mcolumns\u001b[0m\u001b[0;34m=\u001b[0m\u001b[0mcolumns\u001b[0m\u001b[0;34m,\u001b[0m\u001b[0;34m\u001b[0m\u001b[0m\n\u001b[1;32m   3939\u001b[0m                                            \u001b[0mlevel\u001b[0m\u001b[0;34m=\u001b[0m\u001b[0mlevel\u001b[0m\u001b[0;34m,\u001b[0m \u001b[0minplace\u001b[0m\u001b[0;34m=\u001b[0m\u001b[0minplace\u001b[0m\u001b[0;34m,\u001b[0m\u001b[0;34m\u001b[0m\u001b[0m\n\u001b[0;32m-> 3940\u001b[0;31m                                            errors=errors)\n\u001b[0m\u001b[1;32m   3941\u001b[0m \u001b[0;34m\u001b[0m\u001b[0m\n\u001b[1;32m   3942\u001b[0m     @rewrite_axis_style_signature('mapper', [('copy', True),\n",
      "\u001b[0;32m/anaconda3/lib/python3.6/site-packages/pandas/core/generic.py\u001b[0m in \u001b[0;36mdrop\u001b[0;34m(self, labels, axis, index, columns, level, inplace, errors)\u001b[0m\n\u001b[1;32m   3778\u001b[0m         \u001b[0;32mfor\u001b[0m \u001b[0maxis\u001b[0m\u001b[0;34m,\u001b[0m \u001b[0mlabels\u001b[0m \u001b[0;32min\u001b[0m \u001b[0maxes\u001b[0m\u001b[0;34m.\u001b[0m\u001b[0mitems\u001b[0m\u001b[0;34m(\u001b[0m\u001b[0;34m)\u001b[0m\u001b[0;34m:\u001b[0m\u001b[0;34m\u001b[0m\u001b[0m\n\u001b[1;32m   3779\u001b[0m             \u001b[0;32mif\u001b[0m \u001b[0mlabels\u001b[0m \u001b[0;32mis\u001b[0m \u001b[0;32mnot\u001b[0m \u001b[0;32mNone\u001b[0m\u001b[0;34m:\u001b[0m\u001b[0;34m\u001b[0m\u001b[0m\n\u001b[0;32m-> 3780\u001b[0;31m                 \u001b[0mobj\u001b[0m \u001b[0;34m=\u001b[0m \u001b[0mobj\u001b[0m\u001b[0;34m.\u001b[0m\u001b[0m_drop_axis\u001b[0m\u001b[0;34m(\u001b[0m\u001b[0mlabels\u001b[0m\u001b[0;34m,\u001b[0m \u001b[0maxis\u001b[0m\u001b[0;34m,\u001b[0m \u001b[0mlevel\u001b[0m\u001b[0;34m=\u001b[0m\u001b[0mlevel\u001b[0m\u001b[0;34m,\u001b[0m \u001b[0merrors\u001b[0m\u001b[0;34m=\u001b[0m\u001b[0merrors\u001b[0m\u001b[0;34m)\u001b[0m\u001b[0;34m\u001b[0m\u001b[0m\n\u001b[0m\u001b[1;32m   3781\u001b[0m \u001b[0;34m\u001b[0m\u001b[0m\n\u001b[1;32m   3782\u001b[0m         \u001b[0;32mif\u001b[0m \u001b[0minplace\u001b[0m\u001b[0;34m:\u001b[0m\u001b[0;34m\u001b[0m\u001b[0m\n",
      "\u001b[0;32m/anaconda3/lib/python3.6/site-packages/pandas/core/generic.py\u001b[0m in \u001b[0;36m_drop_axis\u001b[0;34m(self, labels, axis, level, errors)\u001b[0m\n\u001b[1;32m   3810\u001b[0m                 \u001b[0mnew_axis\u001b[0m \u001b[0;34m=\u001b[0m \u001b[0maxis\u001b[0m\u001b[0;34m.\u001b[0m\u001b[0mdrop\u001b[0m\u001b[0;34m(\u001b[0m\u001b[0mlabels\u001b[0m\u001b[0;34m,\u001b[0m \u001b[0mlevel\u001b[0m\u001b[0;34m=\u001b[0m\u001b[0mlevel\u001b[0m\u001b[0;34m,\u001b[0m \u001b[0merrors\u001b[0m\u001b[0;34m=\u001b[0m\u001b[0merrors\u001b[0m\u001b[0;34m)\u001b[0m\u001b[0;34m\u001b[0m\u001b[0m\n\u001b[1;32m   3811\u001b[0m             \u001b[0;32melse\u001b[0m\u001b[0;34m:\u001b[0m\u001b[0;34m\u001b[0m\u001b[0m\n\u001b[0;32m-> 3812\u001b[0;31m                 \u001b[0mnew_axis\u001b[0m \u001b[0;34m=\u001b[0m \u001b[0maxis\u001b[0m\u001b[0;34m.\u001b[0m\u001b[0mdrop\u001b[0m\u001b[0;34m(\u001b[0m\u001b[0mlabels\u001b[0m\u001b[0;34m,\u001b[0m \u001b[0merrors\u001b[0m\u001b[0;34m=\u001b[0m\u001b[0merrors\u001b[0m\u001b[0;34m)\u001b[0m\u001b[0;34m\u001b[0m\u001b[0m\n\u001b[0m\u001b[1;32m   3813\u001b[0m             \u001b[0mresult\u001b[0m \u001b[0;34m=\u001b[0m \u001b[0mself\u001b[0m\u001b[0;34m.\u001b[0m\u001b[0mreindex\u001b[0m\u001b[0;34m(\u001b[0m\u001b[0;34m**\u001b[0m\u001b[0;34m{\u001b[0m\u001b[0maxis_name\u001b[0m\u001b[0;34m:\u001b[0m \u001b[0mnew_axis\u001b[0m\u001b[0;34m}\u001b[0m\u001b[0;34m)\u001b[0m\u001b[0;34m\u001b[0m\u001b[0m\n\u001b[1;32m   3814\u001b[0m \u001b[0;34m\u001b[0m\u001b[0m\n",
      "\u001b[0;32m/anaconda3/lib/python3.6/site-packages/pandas/core/indexes/base.py\u001b[0m in \u001b[0;36mdrop\u001b[0;34m(self, labels, errors)\u001b[0m\n\u001b[1;32m   4958\u001b[0m         \u001b[0marr_dtype\u001b[0m \u001b[0;34m=\u001b[0m \u001b[0;34m'object'\u001b[0m \u001b[0;32mif\u001b[0m \u001b[0mself\u001b[0m\u001b[0;34m.\u001b[0m\u001b[0mdtype\u001b[0m \u001b[0;34m==\u001b[0m \u001b[0;34m'object'\u001b[0m \u001b[0;32melse\u001b[0m \u001b[0;32mNone\u001b[0m\u001b[0;34m\u001b[0m\u001b[0m\n\u001b[1;32m   4959\u001b[0m         \u001b[0mlabels\u001b[0m \u001b[0;34m=\u001b[0m \u001b[0mcom\u001b[0m\u001b[0;34m.\u001b[0m\u001b[0mindex_labels_to_array\u001b[0m\u001b[0;34m(\u001b[0m\u001b[0mlabels\u001b[0m\u001b[0;34m,\u001b[0m \u001b[0mdtype\u001b[0m\u001b[0;34m=\u001b[0m\u001b[0marr_dtype\u001b[0m\u001b[0;34m)\u001b[0m\u001b[0;34m\u001b[0m\u001b[0m\n\u001b[0;32m-> 4960\u001b[0;31m         \u001b[0mindexer\u001b[0m \u001b[0;34m=\u001b[0m \u001b[0mself\u001b[0m\u001b[0;34m.\u001b[0m\u001b[0mget_indexer\u001b[0m\u001b[0;34m(\u001b[0m\u001b[0mlabels\u001b[0m\u001b[0;34m)\u001b[0m\u001b[0;34m\u001b[0m\u001b[0m\n\u001b[0m\u001b[1;32m   4961\u001b[0m         \u001b[0mmask\u001b[0m \u001b[0;34m=\u001b[0m \u001b[0mindexer\u001b[0m \u001b[0;34m==\u001b[0m \u001b[0;34m-\u001b[0m\u001b[0;36m1\u001b[0m\u001b[0;34m\u001b[0m\u001b[0m\n\u001b[1;32m   4962\u001b[0m         \u001b[0;32mif\u001b[0m \u001b[0mmask\u001b[0m\u001b[0;34m.\u001b[0m\u001b[0many\u001b[0m\u001b[0;34m(\u001b[0m\u001b[0;34m)\u001b[0m\u001b[0;34m:\u001b[0m\u001b[0;34m\u001b[0m\u001b[0m\n",
      "\u001b[0;32m/anaconda3/lib/python3.6/site-packages/pandas/core/indexes/base.py\u001b[0m in \u001b[0;36mget_indexer\u001b[0;34m(self, target, method, limit, tolerance)\u001b[0m\n\u001b[1;32m   2735\u001b[0m             \u001b[0mtarget\u001b[0m \u001b[0;34m=\u001b[0m \u001b[0mtarget\u001b[0m\u001b[0;34m.\u001b[0m\u001b[0mastype\u001b[0m\u001b[0;34m(\u001b[0m\u001b[0mobject\u001b[0m\u001b[0;34m)\u001b[0m\u001b[0;34m\u001b[0m\u001b[0m\n\u001b[1;32m   2736\u001b[0m             return this.get_indexer(target, method=method, limit=limit,\n\u001b[0;32m-> 2737\u001b[0;31m                                     tolerance=tolerance)\n\u001b[0m\u001b[1;32m   2738\u001b[0m \u001b[0;34m\u001b[0m\u001b[0m\n\u001b[1;32m   2739\u001b[0m         \u001b[0;32mif\u001b[0m \u001b[0;32mnot\u001b[0m \u001b[0mself\u001b[0m\u001b[0;34m.\u001b[0m\u001b[0mis_unique\u001b[0m\u001b[0;34m:\u001b[0m\u001b[0;34m\u001b[0m\u001b[0m\n",
      "\u001b[0;32m/anaconda3/lib/python3.6/site-packages/pandas/core/indexes/base.py\u001b[0m in \u001b[0;36mget_indexer\u001b[0;34m(self, target, method, limit, tolerance)\u001b[0m\n\u001b[1;32m   2753\u001b[0m                                  'backfill or nearest reindexing')\n\u001b[1;32m   2754\u001b[0m \u001b[0;34m\u001b[0m\u001b[0m\n\u001b[0;32m-> 2755\u001b[0;31m             \u001b[0mindexer\u001b[0m \u001b[0;34m=\u001b[0m \u001b[0mself\u001b[0m\u001b[0;34m.\u001b[0m\u001b[0m_engine\u001b[0m\u001b[0;34m.\u001b[0m\u001b[0mget_indexer\u001b[0m\u001b[0;34m(\u001b[0m\u001b[0mtarget\u001b[0m\u001b[0;34m.\u001b[0m\u001b[0m_ndarray_values\u001b[0m\u001b[0;34m)\u001b[0m\u001b[0;34m\u001b[0m\u001b[0m\n\u001b[0m\u001b[1;32m   2756\u001b[0m \u001b[0;34m\u001b[0m\u001b[0m\n\u001b[1;32m   2757\u001b[0m         \u001b[0;32mreturn\u001b[0m \u001b[0mensure_platform_int\u001b[0m\u001b[0;34m(\u001b[0m\u001b[0mindexer\u001b[0m\u001b[0;34m)\u001b[0m\u001b[0;34m\u001b[0m\u001b[0m\n",
      "\u001b[0;32mpandas/_libs/index.pyx\u001b[0m in \u001b[0;36mpandas._libs.index.IndexEngine.get_indexer\u001b[0;34m()\u001b[0m\n",
      "\u001b[0;32mpandas/_libs/hashtable_class_helper.pxi\u001b[0m in \u001b[0;36mpandas._libs.hashtable.PyObjectHashTable.lookup\u001b[0;34m()\u001b[0m\n",
      "\u001b[0;31mTypeError\u001b[0m: unhashable type: 'list'"
     ]
    }
   ],
   "source": [
    "df.drop(df[df['PIN'] == '-' ].index , inplace=True)"
   ]
  },
  {
   "cell_type": "code",
   "execution_count": 285,
   "metadata": {},
   "outputs": [
    {
     "data": {
      "text/plain": [
       "508"
      ]
     },
     "execution_count": 285,
     "metadata": {},
     "output_type": "execute_result"
    }
   ],
   "source": [
    "len(df['PIN'].unique())"
   ]
  },
  {
   "cell_type": "code",
   "execution_count": 270,
   "metadata": {},
   "outputs": [
    {
     "ename": "TypeError",
     "evalue": "'NoneType' object is not subscriptable",
     "output_type": "error",
     "traceback": [
      "\u001b[0;31m---------------------------------------------------------------------------\u001b[0m",
      "\u001b[0;31mTypeError\u001b[0m                                 Traceback (most recent call last)",
      "\u001b[0;32m<ipython-input-270-1dae3dfaaee1>\u001b[0m in \u001b[0;36m<module>\u001b[0;34m\u001b[0m\n\u001b[0;32m----> 1\u001b[0;31m \u001b[0mgraph\u001b[0m\u001b[0;34m=\u001b[0m\u001b[0mdf\u001b[0m\u001b[0;34m[\u001b[0m\u001b[0;34m'PIN'\u001b[0m\u001b[0;34m]\u001b[0m\u001b[0;34m.\u001b[0m\u001b[0mvalue_counts\u001b[0m\u001b[0;34m(\u001b[0m\u001b[0;34m)\u001b[0m\u001b[0;34m\u001b[0m\u001b[0m\n\u001b[0m",
      "\u001b[0;31mTypeError\u001b[0m: 'NoneType' object is not subscriptable"
     ]
    }
   ],
   "source": [
    "graph=df['PIN'].value_counts()"
   ]
  },
  {
   "cell_type": "code",
   "execution_count": 119,
   "metadata": {},
   "outputs": [],
   "source": [
    "graph=graph.dropna()"
   ]
  },
  {
   "cell_type": "code",
   "execution_count": 155,
   "metadata": {},
   "outputs": [],
   "source": [
    "x=(graph.tolist())"
   ]
  },
  {
   "cell_type": "code",
   "execution_count": 156,
   "metadata": {},
   "outputs": [],
   "source": [
    "y=[]\n",
    "for i in graph.index.tolist():\n",
    "    y.append(str(i))"
   ]
  },
  {
   "cell_type": "code",
   "execution_count": 157,
   "metadata": {},
   "outputs": [],
   "source": [
    "import matplotlib.pyplot as plt\n",
    "from matplotlib import interactive\n",
    "interactive(True)"
   ]
  },
  {
   "cell_type": "code",
   "execution_count": 158,
   "metadata": {},
   "outputs": [
    {
     "data": {
      "text/plain": [
       "<BarContainer object of 408 artists>"
      ]
     },
     "execution_count": 158,
     "metadata": {},
     "output_type": "execute_result"
    },
    {
     "data": {
      "image/png": "[encoded data removed]",
      "text/plain": [
       "<Figure size 432x288 with 1 Axes>"
      ]
     },
     "metadata": {
      "needs_background": "light"
     },
     "output_type": "display_data"
    }
   ],
   "source": [
    "plt.bar(y,x)"
   ]
  },
  {
   "cell_type": "code",
   "execution_count": 189,
   "metadata": {},
   "outputs": [
    {
     "data": {
      "text/plain": [
       "34.0"
      ]
     },
     "execution_count": 189,
     "metadata": {},
     "output_type": "execute_result"
    }
   ],
   "source": [
    "len(graph)/12"
   ]
  },
  {
   "cell_type": "code",
   "execution_count": 215,
   "metadata": {},
   "outputs": [],
   "source": [
    "lst = 0\n",
    "j = 0\n",
    "Complete_list=[]\n",
    "for i in y:\n",
    "    try:\n",
    "        Complete_list.append(PIN_CODE.loc[PIN_CODE['PINCODE'] == int(i)]['OFFICE NAME'].tolist())\n",
    "        j = j+1\n",
    "        if j == 11:\n",
    "            lst = lst+1\n",
    "    except:\n",
    "        pass"
   ]
  },
  {
   "cell_type": "code",
   "execution_count": 218,
   "metadata": {},
   "outputs": [
    {
     "data": {
      "text/plain": [
       "393"
      ]
     },
     "execution_count": 218,
     "metadata": {},
     "output_type": "execute_result"
    }
   ],
   "source": [
    "len(Complete_list)"
   ]
  },
  {
   "cell_type": "code",
   "execution_count": 220,
   "metadata": {},
   "outputs": [
    {
     "name": "stdout",
     "output_type": "stream",
     "text": [
      "['Bannerghatta Road S.O', 'Hulimavu B.O', 'Mico Layout S.O', 'Mount St Joseph B.O', 'Bilekahalli B.O']\n",
      "['Banaswadi S.O', 'Jalavayuvihar S.O', 'Horamavu B.O', 'Kalyanagar S.O']\n",
      "['Doddanekkundi S.O', 'Kundalahalli S.O', 'Rameshnagar S.O', 'Yemalur S.O', 'Marathahalli Colony S.O']\n",
      "['J P Nagar S.O', 'Jp Nagar Iii Phase S.O', 'Kumaraswamy Layout S.O', 'Vikramnagar S.O', 'Yelachenahalli S.O']\n",
      "['Bommanahalli S.O', 'Hongasandra B.O', 'Madivala S.O', 'Begur B.O', 'Singasandra B.O']\n",
      "['Jeevanbhimanagar S.O', 'Ramagondanahalli S.O', 'Immedihalli B.O', 'Whitefield S.O']\n",
      "['Electronics City S.O']\n",
      "['HSR Layout S.O']\n",
      "['BSF Campus Yelahanka S.O', 'CRPF Campus Yelahanka S.O', 'Jakkur S.O', 'Kendriya Vihar S.O', 'Wheel And Axle Plant S.O', 'Yelahanka Satellite Town S.O', 'Attur B.O', 'Rajanakunte B.O', 'Singanayakanahalli B.O', 'Yelahanka S.O']\n",
      "['Bellandur S.O']\n",
      "['Hoodi S.O', 'Mahadevapura S.O']\n",
      "['P&T Col. Kavalbyrasandra S.O', 'R T Nagar H.O']\n",
      "['Carmelaram S.O']\n",
      "['Krishnarajapuram R S S.O', 'Ramamurthy Nagar S.O', 'Doorvaninagar S.O']\n",
      "['Banashankari III Stage S.O', 'Girinagar S.O', 'Hosakerehalli B.O', 'Ittamadu Layout S.O', 'Kathriguppe S.O']\n",
      "['ISRO Anthariksha Bhavan S.O', 'R.M.V. Extension II Stage S.O']\n",
      "['Hulsur Bazaar S.O', 'Someswarapura S.O', 'H.A.L II Stage H.O']\n",
      "['Chikkabettahalli B.O', 'Vidyaranyapura S.O']\n",
      "['Agara B.O', 'Kendriya Sadan S.O', 'Koramangala I Block S.O', 'Koramangala S.O', \"St. John's Medical College S.O\"]\n",
      "['Doddakallasandra S.O', 'Doddakallasandra S.O', 'Konanakunte B.O', 'Anjanapura B.O', 'Talaghatapura B.O', 'Tataguni B.O']\n"
     ]
    }
   ],
   "source": [
    "for l in Complete_list[0:20]:\n",
    "    print(l)"
   ]
  },
  {
   "cell_type": "code",
   "execution_count": 225,
   "metadata": {},
   "outputs": [
    {
     "data": {
      "text/plain": [
       "2313"
      ]
     },
     "execution_count": 225,
     "metadata": {},
     "output_type": "execute_result"
    }
   ],
   "source": [
    "len(df[\"Port of Origin of journey\"].unique())"
   ]
  },
  {
   "cell_type": "code",
   "execution_count": 226,
   "metadata": {},
   "outputs": [],
   "source": [
    "country=df['Port of Origin of journey'].value_counts()"
   ]
  },
  {
   "cell_type": "code",
   "execution_count": 235,
   "metadata": {},
   "outputs": [
    {
     "data": {
      "text/plain": [
       "Dubai        702\n",
       "London       426\n",
       "Singapore    370\n",
       "DUBAI        276\n",
       "USA          232\n",
       "Delhi        208\n",
       "Colombo      175\n",
       "Maldives     115\n",
       "Amsterdam    114\n",
       "LONDON       105\n",
       "Paris         96\n",
       "Sydney        89\n",
       "Germany       81\n",
       "Melbourne     79\n",
       "Frankfurt     78\n",
       "Sharjah       78\n",
       "Bangkok       68\n",
       "LONDON        60\n",
       "Australia     56\n",
       "Doha          54\n",
       "Name: Port of Origin of journey, dtype: int64"
      ]
     },
     "execution_count": 235,
     "metadata": {},
     "output_type": "execute_result"
    }
   ],
   "source": [
    "country.head(20)"
   ]
  },
  {
   "cell_type": "code",
   "execution_count": 236,
   "metadata": {},
   "outputs": [
    {
     "data": {
      "text/html": [
       "<div>\n",
       "<style scoped>\n",
       "    .dataframe tbody tr th:only-of-type {\n",
       "        vertical-align: middle;\n",
       "    }\n",
       "\n",
       "    .dataframe tbody tr th {\n",
       "        vertical-align: top;\n",
       "    }\n",
       "\n",
       "    .dataframe thead th {\n",
       "        text-align: right;\n",
       "    }\n",
       "</style>\n",
       "<table border=\"1\" class=\"dataframe\">\n",
       "  <thead>\n",
       "    <tr style=\"text-align: right;\">\n",
       "      <th></th>\n",
       "      <th>Date of Arrival</th>\n",
       "      <th>Date until Quarantined at home</th>\n",
       "      <th>Port of Origin of journey</th>\n",
       "      <th>Port of Final Destination</th>\n",
       "      <th>House No</th>\n",
       "      <th>Street/ Village</th>\n",
       "      <th>Tehsil</th>\n",
       "      <th>District/ City</th>\n",
       "      <th>State</th>\n",
       "      <th>PIN</th>\n",
       "      <th>Final District/ City</th>\n",
       "    </tr>\n",
       "    <tr>\n",
       "      <th>S.No.</th>\n",
       "      <th></th>\n",
       "      <th></th>\n",
       "      <th></th>\n",
       "      <th></th>\n",
       "      <th></th>\n",
       "      <th></th>\n",
       "      <th></th>\n",
       "      <th></th>\n",
       "      <th></th>\n",
       "      <th></th>\n",
       "      <th></th>\n",
       "    </tr>\n",
       "  </thead>\n",
       "  <tbody>\n",
       "    <tr>\n",
       "      <th>2</th>\n",
       "      <td>2020-03-22</td>\n",
       "      <td>2020-04-05</td>\n",
       "      <td>Dubai</td>\n",
       "      <td>Bangalore</td>\n",
       "      <td>201 A</td>\n",
       "      <td>22nd A cross, 17 A cross,</td>\n",
       "      <td>3rd sector, HSR layout</td>\n",
       "      <td>Bangalore</td>\n",
       "      <td>Karnataka</td>\n",
       "      <td>560102</td>\n",
       "      <td>Bengaluru (Urban, Rural &amp; BBMP)</td>\n",
       "    </tr>\n",
       "    <tr>\n",
       "      <th>4</th>\n",
       "      <td>2020-03-22</td>\n",
       "      <td>2020-04-05</td>\n",
       "      <td>Dubai</td>\n",
       "      <td>Bangalore</td>\n",
       "      <td>2038</td>\n",
       "      <td>Indiranagar</td>\n",
       "      <td>HAL 2nd stage</td>\n",
       "      <td>Bangalore</td>\n",
       "      <td>Karnataka</td>\n",
       "      <td>560008</td>\n",
       "      <td>Bengaluru (Urban, Rural &amp; BBMP)</td>\n",
       "    </tr>\n",
       "    <tr>\n",
       "      <th>5</th>\n",
       "      <td>2020-03-22</td>\n",
       "      <td>2020-04-05</td>\n",
       "      <td>Seattle</td>\n",
       "      <td>Bangalore</td>\n",
       "      <td>71</td>\n",
       "      <td>GP Rajarampur 9th main</td>\n",
       "      <td>Hanumanthnagar</td>\n",
       "      <td>Bangalore</td>\n",
       "      <td>Karnataka</td>\n",
       "      <td>560019</td>\n",
       "      <td>Bengaluru (Urban, Rural &amp; BBMP)</td>\n",
       "    </tr>\n",
       "    <tr>\n",
       "      <th>8</th>\n",
       "      <td>2020-03-22</td>\n",
       "      <td>2020-04-05</td>\n",
       "      <td>Dubai</td>\n",
       "      <td>Bangalore</td>\n",
       "      <td>45</td>\n",
       "      <td>8Th Cross</td>\n",
       "      <td>Vijayanagar</td>\n",
       "      <td>Banagalore</td>\n",
       "      <td>Karnataka</td>\n",
       "      <td>560072</td>\n",
       "      <td>Bengaluru (Urban, Rural &amp; BBMP)</td>\n",
       "    </tr>\n",
       "    <tr>\n",
       "      <th>9</th>\n",
       "      <td>2020-03-22</td>\n",
       "      <td>2020-04-05</td>\n",
       "      <td>Dubai</td>\n",
       "      <td>Bangalore</td>\n",
       "      <td>42</td>\n",
       "      <td>Kamanahalli</td>\n",
       "      <td>Banagalore</td>\n",
       "      <td>Banagalore</td>\n",
       "      <td>Karnataka</td>\n",
       "      <td>560889</td>\n",
       "      <td>Bengaluru (Urban, Rural &amp; BBMP)</td>\n",
       "    </tr>\n",
       "  </tbody>\n",
       "</table>\n",
       "</div>"
      ],
      "text/plain": [
       "      Date of Arrival Date until Quarantined at home  \\\n",
       "S.No.                                                  \n",
       "2          2020-03-22                     2020-04-05   \n",
       "4          2020-03-22                     2020-04-05   \n",
       "5          2020-03-22                     2020-04-05   \n",
       "8          2020-03-22                     2020-04-05   \n",
       "9          2020-03-22                     2020-04-05   \n",
       "\n",
       "      Port of Origin of journey Port of Final Destination House No  \\\n",
       "S.No.                                                                \n",
       "2                         Dubai                 Bangalore    201 A   \n",
       "4                         Dubai                 Bangalore     2038   \n",
       "5                       Seattle                 Bangalore       71   \n",
       "8                        Dubai                  Bangalore       45   \n",
       "9                        Dubai                  Bangalore       42   \n",
       "\n",
       "                  Street/ Village                  Tehsil District/ City  \\\n",
       "S.No.                                                                      \n",
       "2      22nd A cross, 17 A cross,   3rd sector, HSR layout      Bangalore   \n",
       "4                     Indiranagar           HAL 2nd stage      Bangalore   \n",
       "5          GP Rajarampur 9th main          Hanumanthnagar      Bangalore   \n",
       "8                      8Th Cross              Vijayanagar     Banagalore   \n",
       "9                     Kamanahalli              Banagalore     Banagalore   \n",
       "\n",
       "           State     PIN             Final District/ City  \n",
       "S.No.                                                      \n",
       "2      Karnataka  560102  Bengaluru (Urban, Rural & BBMP)  \n",
       "4      Karnataka  560008  Bengaluru (Urban, Rural & BBMP)  \n",
       "5      Karnataka  560019  Bengaluru (Urban, Rural & BBMP)  \n",
       "8      Karnataka  560072  Bengaluru (Urban, Rural & BBMP)  \n",
       "9      Karnataka  560889  Bengaluru (Urban, Rural & BBMP)  "
      ]
     },
     "execution_count": 236,
     "metadata": {},
     "output_type": "execute_result"
    }
   ],
   "source": [
    "df.head()"
   ]
  },
  {
   "cell_type": "code",
   "execution_count": 249,
   "metadata": {},
   "outputs": [],
   "source": [
    "Diagonised = pd.read_excel(str(pathlib.Path().absolute())+\"/Data/D_Bengaluru.xlsx\")"
   ]
  },
  {
   "cell_type": "code",
   "execution_count": 258,
   "metadata": {},
   "outputs": [
    {
     "data": {
      "text/html": [
       "<div>\n",
       "<style scoped>\n",
       "    .dataframe tbody tr th:only-of-type {\n",
       "        vertical-align: middle;\n",
       "    }\n",
       "\n",
       "    .dataframe tbody tr th {\n",
       "        vertical-align: top;\n",
       "    }\n",
       "\n",
       "    .dataframe thead th {\n",
       "        text-align: right;\n",
       "    }\n",
       "</style>\n",
       "<table border=\"1\" class=\"dataframe\">\n",
       "  <thead>\n",
       "    <tr style=\"text-align: right;\">\n",
       "      <th></th>\n",
       "      <th>Sr</th>\n",
       "      <th>Age</th>\n",
       "      <th>Gender</th>\n",
       "      <th>City</th>\n",
       "      <th>Travel History</th>\n",
       "      <th>Layover</th>\n",
       "      <th>Date of Return to India</th>\n",
       "      <th>Source of Infection</th>\n",
       "      <th>Type of Infection\n",
       "source</th>\n",
       "      <th>Date of Discharge</th>\n",
       "      <th>Date of Death</th>\n",
       "    </tr>\n",
       "  </thead>\n",
       "  <tbody>\n",
       "    <tr>\n",
       "      <th>0</th>\n",
       "      <td>P1</td>\n",
       "      <td>46.0</td>\n",
       "      <td>Male</td>\n",
       "      <td>Bengaluru</td>\n",
       "      <td>USA</td>\n",
       "      <td>UAE</td>\n",
       "      <td>NaT</td>\n",
       "      <td>UAE</td>\n",
       "      <td>Travel</td>\n",
       "      <td>27-03-2020</td>\n",
       "      <td>NaN</td>\n",
       "    </tr>\n",
       "    <tr>\n",
       "      <th>1</th>\n",
       "      <td>P2</td>\n",
       "      <td>47.0</td>\n",
       "      <td>Female</td>\n",
       "      <td>Bengaluru</td>\n",
       "      <td>No Travel History</td>\n",
       "      <td>NaN</td>\n",
       "      <td>NaT</td>\n",
       "      <td>Cotact with P1 (Wife of P1)</td>\n",
       "      <td>Family</td>\n",
       "      <td>24-03-2020</td>\n",
       "      <td>NaN</td>\n",
       "    </tr>\n",
       "    <tr>\n",
       "      <th>2</th>\n",
       "      <td>P3</td>\n",
       "      <td>13.0</td>\n",
       "      <td>Female</td>\n",
       "      <td>Bengaluru</td>\n",
       "      <td>No Travel History</td>\n",
       "      <td>NaN</td>\n",
       "      <td>NaT</td>\n",
       "      <td>Cotact with P1 (Daughter of P1)</td>\n",
       "      <td>Family</td>\n",
       "      <td>27-03-2020</td>\n",
       "      <td>NaN</td>\n",
       "    </tr>\n",
       "    <tr>\n",
       "      <th>3</th>\n",
       "      <td>P4</td>\n",
       "      <td>50.0</td>\n",
       "      <td>Male</td>\n",
       "      <td>Bengaluru</td>\n",
       "      <td>USA</td>\n",
       "      <td>UK</td>\n",
       "      <td>NaT</td>\n",
       "      <td>UK</td>\n",
       "      <td>Travel</td>\n",
       "      <td>24-03-2020</td>\n",
       "      <td>NaN</td>\n",
       "    </tr>\n",
       "    <tr>\n",
       "      <th>4</th>\n",
       "      <td>P5</td>\n",
       "      <td>26.0</td>\n",
       "      <td>Male</td>\n",
       "      <td>Bengaluru</td>\n",
       "      <td>Greece</td>\n",
       "      <td>NaN</td>\n",
       "      <td>NaT</td>\n",
       "      <td>Greece</td>\n",
       "      <td>Travel</td>\n",
       "      <td>20-03-2020</td>\n",
       "      <td>NaN</td>\n",
       "    </tr>\n",
       "  </tbody>\n",
       "</table>\n",
       "</div>"
      ],
      "text/plain": [
       "   Sr   Age  Gender       City     Travel History Layover  \\\n",
       "0  P1  46.0    Male  Bengaluru                USA     UAE   \n",
       "1  P2  47.0  Female  Bengaluru  No Travel History     NaN   \n",
       "2  P3  13.0  Female  Bengaluru  No Travel History     NaN   \n",
       "3  P4  50.0    Male  Bengaluru                USA      UK   \n",
       "4  P5  26.0    Male  Bengaluru             Greece     NaN   \n",
       "\n",
       "  Date of Return to India\\n              Source of Infection  \\\n",
       "0                       NaT                              UAE   \n",
       "1                       NaT      Cotact with P1 (Wife of P1)   \n",
       "2                       NaT  Cotact with P1 (Daughter of P1)   \n",
       "3                       NaT                               UK   \n",
       "4                       NaT                           Greece   \n",
       "\n",
       "  Type of Infection\\nsource Date of Discharge Date of Death  \n",
       "0                    Travel        27-03-2020           NaN  \n",
       "1                    Family        24-03-2020           NaN  \n",
       "2                    Family        27-03-2020           NaN  \n",
       "3                    Travel        24-03-2020           NaN  \n",
       "4                    Travel        20-03-2020           NaN  "
      ]
     },
     "execution_count": 258,
     "metadata": {},
     "output_type": "execute_result"
    }
   ],
   "source": [
    "Diagonised.head()"
   ]
  },
  {
   "cell_type": "code",
   "execution_count": 242,
   "metadata": {},
   "outputs": [
    {
     "data": {
      "text/plain": [
       "Bengaluru          38\n",
       "Uttar Kannada       8\n",
       "Nanjangund          8\n",
       "Gowribidnur         4\n",
       "Kasargod            4\n",
       "Chikkaballapura     4\n",
       "Mysuru              3\n",
       "Udupi               3\n",
       "Kalaburagi          3\n",
       "Davanagere          2\n",
       "Tumkur              2\n",
       "Dakshin Kannada     1\n",
       "Hindupur            1\n",
       "Kannur              1\n",
       "Dharwad             1\n",
       "Kodagu              1\n",
       "Kerala              1\n",
       "Chitradurga         1\n",
       "Anantpura           1\n",
       "Name: City, dtype: int64"
      ]
     },
     "execution_count": 242,
     "metadata": {},
     "output_type": "execute_result"
    }
   ],
   "source": [
    "city=Diagonised[\"City\"].value_counts()\n",
    "city"
   ]
  },
  {
   "cell_type": "code",
   "execution_count": 247,
   "metadata": {},
   "outputs": [
    {
     "data": {
      "text/plain": [
       "Male      61\n",
       "Female    27\n",
       "Name: Gender, dtype: int64"
      ]
     },
     "execution_count": 247,
     "metadata": {},
     "output_type": "execute_result"
    }
   ],
   "source": [
    "Gender=Diagonised[\"Gender\"].value_counts()\n",
    "Gender"
   ]
  },
  {
   "cell_type": "code",
   "execution_count": 253,
   "metadata": {},
   "outputs": [
    {
     "data": {
      "text/plain": [
       "Index(['Sr', 'Age', 'Gender', 'City', 'Travel History', 'Layover',\n",
       "       'Date of Return to India\\n', 'Source of Infection',\n",
       "       'Type of Infection\\nsource', 'Date of Discharge', 'Date of Death'],\n",
       "      dtype='object')"
      ]
     },
     "execution_count": 253,
     "metadata": {},
     "output_type": "execute_result"
    }
   ],
   "source": [
    "Diagonised.columns"
   ]
  },
  {
   "cell_type": "code",
   "execution_count": 256,
   "metadata": {},
   "outputs": [
    {
     "data": {
      "text/plain": [
       "Travel          53\n",
       "Social          23\n",
       "Family           6\n",
       "Occupational     4\n",
       "Undefined        2\n",
       "Name: Type of Infection\\nsource, dtype: int64"
      ]
     },
     "execution_count": 256,
     "metadata": {},
     "output_type": "execute_result"
    }
   ],
   "source": [
    "Type_of_Infection_source=Diagonised[\"Type of Infection\\nsource\"].value_counts()\n",
    "Type_of_Infection_source"
   ]
  },
  {
   "cell_type": "code",
   "execution_count": 260,
   "metadata": {},
   "outputs": [
    {
     "data": {
      "text/plain": [
       "35.00    7\n",
       "21.00    5\n",
       "32.00    4\n",
       "63.00    4\n",
       "22.00    3\n",
       "56.00    3\n",
       "38.00    3\n",
       "70.00    3\n",
       "23.00    3\n",
       "24.00    3\n",
       "20.00    3\n",
       "26.00    3\n",
       "30.00    2\n",
       "39.00    2\n",
       "45.00    2\n",
       "13.00    2\n",
       "64.00    2\n",
       "47.00    2\n",
       "25.00    2\n",
       "46.00    2\n",
       "18.00    2\n",
       "34.00    2\n",
       "60.00    2\n",
       "41.00    1\n",
       "9.00     1\n",
       "42.00    1\n",
       "28.00    1\n",
       "50.00    1\n",
       "54.00    1\n",
       "76.00    1\n",
       "33.00    1\n",
       "7.00     1\n",
       "67.00    1\n",
       "69.00    1\n",
       "59.00    1\n",
       "53.00    1\n",
       "37.00    1\n",
       "65.00    1\n",
       "31.00    1\n",
       "40.00    1\n",
       "36.00    1\n",
       "27.00    1\n",
       "51.00    1\n",
       "29.00    1\n",
       "0.11     1\n",
       "Name: Age, dtype: int64"
      ]
     },
     "execution_count": 260,
     "metadata": {},
     "output_type": "execute_result"
    }
   ],
   "source": [
    "Age=Diagonised[\"Age\"].value_counts()\n",
    "Age"
   ]
  },
  {
   "cell_type": "code",
   "execution_count": 192,
   "metadata": {},
   "outputs": [],
   "source": [
    "PIN_CODE = pd.read_excel(str(pathlib.Path().absolute())+\"/Data/List of Pin Codes of Karnataka.xls\")"
   ]
  },
  {
   "cell_type": "code",
   "execution_count": 193,
   "metadata": {},
   "outputs": [
    {
     "data": {
      "text/html": [
       "<div>\n",
       "<style scoped>\n",
       "    .dataframe tbody tr th:only-of-type {\n",
       "        vertical-align: middle;\n",
       "    }\n",
       "\n",
       "    .dataframe tbody tr th {\n",
       "        vertical-align: top;\n",
       "    }\n",
       "\n",
       "    .dataframe thead th {\n",
       "        text-align: right;\n",
       "    }\n",
       "</style>\n",
       "<table border=\"1\" class=\"dataframe\">\n",
       "  <thead>\n",
       "    <tr style=\"text-align: right;\">\n",
       "      <th></th>\n",
       "      <th>OFFICE NAME</th>\n",
       "      <th>OFFICE STATUS</th>\n",
       "      <th>PINCODE</th>\n",
       "      <th>TELEPHONE NO.</th>\n",
       "      <th>TALUK</th>\n",
       "      <th>DISTRICT</th>\n",
       "      <th>STATE/U.T.</th>\n",
       "      <th>POSTAL DIVISION</th>\n",
       "      <th>POSTAL REGION</th>\n",
       "      <th>POSTAL CIRCLE</th>\n",
       "    </tr>\n",
       "  </thead>\n",
       "  <tbody>\n",
       "    <tr>\n",
       "      <th>0</th>\n",
       "      <td>...</td>\n",
       "      <td>NaN</td>\n",
       "      <td>(THE...</td>\n",
       "      <td>NaN</td>\n",
       "      <td>NaN</td>\n",
       "      <td>NaN</td>\n",
       "      <td>NaN</td>\n",
       "      <td>NaN</td>\n",
       "      <td>NaN</td>\n",
       "      <td>NaN</td>\n",
       "    </tr>\n",
       "    <tr>\n",
       "      <th>1</th>\n",
       "      <td>NaN</td>\n",
       "      <td>NaN</td>\n",
       "      <td>NaN</td>\n",
       "      <td>NaN</td>\n",
       "      <td>NaN</td>\n",
       "      <td>NaN</td>\n",
       "      <td>NaN</td>\n",
       "      <td>NaN</td>\n",
       "      <td>NaN</td>\n",
       "      <td>NaN</td>\n",
       "    </tr>\n",
       "    <tr>\n",
       "      <th>2</th>\n",
       "      <td>Govankoppa B.O</td>\n",
       "      <td>Branch Post Office</td>\n",
       "      <td>587155</td>\n",
       "      <td>NaN</td>\n",
       "      <td>BADAMI</td>\n",
       "      <td>BAGALKOT</td>\n",
       "      <td>KARNATAKA</td>\n",
       "      <td>BAGALKOT</td>\n",
       "      <td>NORTH KARNATAKA</td>\n",
       "      <td>KARNATAKA</td>\n",
       "    </tr>\n",
       "    <tr>\n",
       "      <th>3</th>\n",
       "      <td>Adagal B.O</td>\n",
       "      <td>Branch Post Office</td>\n",
       "      <td>587201</td>\n",
       "      <td>NaN</td>\n",
       "      <td>BADAMI</td>\n",
       "      <td>BAGALKOT</td>\n",
       "      <td>KARNATAKA</td>\n",
       "      <td>BAGALKOT</td>\n",
       "      <td>NORTH KARNATAKA</td>\n",
       "      <td>KARNATAKA</td>\n",
       "    </tr>\n",
       "    <tr>\n",
       "      <th>4</th>\n",
       "      <td>Agasarkoppa B.O</td>\n",
       "      <td>Branch Post Office</td>\n",
       "      <td>587206</td>\n",
       "      <td>NaN</td>\n",
       "      <td>BADAMI</td>\n",
       "      <td>BAGALKOT</td>\n",
       "      <td>KARNATAKA</td>\n",
       "      <td>BAGALKOT</td>\n",
       "      <td>NORTH KARNATAKA</td>\n",
       "      <td>KARNATAKA</td>\n",
       "    </tr>\n",
       "  </tbody>\n",
       "</table>\n",
       "</div>"
      ],
      "text/plain": [
       "                                         OFFICE NAME       OFFICE STATUS  \\\n",
       "0                                                ...                 NaN   \n",
       "1                                                NaN                 NaN   \n",
       "2                                     Govankoppa B.O  Branch Post Office   \n",
       "3                                         Adagal B.O  Branch Post Office   \n",
       "4                                    Agasarkoppa B.O  Branch Post Office   \n",
       "\n",
       "                                             PINCODE TELEPHONE NO.    TALUK  \\\n",
       "0                                            (THE...           NaN      NaN   \n",
       "1                                                NaN           NaN      NaN   \n",
       "2                                             587155           NaN   BADAMI   \n",
       "3                                             587201           NaN   BADAMI   \n",
       "4                                             587206           NaN   BADAMI   \n",
       "\n",
       "   DISTRICT STATE/U.T. POSTAL DIVISION    POSTAL REGION POSTAL CIRCLE  \n",
       "0       NaN        NaN             NaN              NaN           NaN  \n",
       "1       NaN        NaN             NaN              NaN           NaN  \n",
       "2  BAGALKOT  KARNATAKA        BAGALKOT  NORTH KARNATAKA     KARNATAKA  \n",
       "3  BAGALKOT  KARNATAKA        BAGALKOT  NORTH KARNATAKA     KARNATAKA  \n",
       "4  BAGALKOT  KARNATAKA        BAGALKOT  NORTH KARNATAKA     KARNATAKA  "
      ]
     },
     "execution_count": 193,
     "metadata": {},
     "output_type": "execute_result"
    }
   ],
   "source": [
    "PIN_CODE.head()"
   ]
  },
  {
   "cell_type": "code",
   "execution_count": 268,
   "metadata": {},
   "outputs": [],
   "source": [
    "df = pd.read_excel(str(pathlib.Path().absolute())+\"/Data/Bengaluru.xls\")\n",
    "df = df.set_index('S.No.')\n",
    "df = df.dropna(subset=['PIN'])\n",
    "df = df.drop(df[df['PIN'] == '-' ].index , inplace=True)"
   ]
  },
  {
   "cell_type": "code",
   "execution_count": 269,
   "metadata": {},
   "outputs": [
    {
     "ename": "TypeError",
     "evalue": "'NoneType' object is not subscriptable",
     "output_type": "error",
     "traceback": [
      "\u001b[0;31m---------------------------------------------------------------------------\u001b[0m",
      "\u001b[0;31mTypeError\u001b[0m                                 Traceback (most recent call last)",
      "\u001b[0;32m<ipython-input-269-1dae3dfaaee1>\u001b[0m in \u001b[0;36m<module>\u001b[0;34m\u001b[0m\n\u001b[0;32m----> 1\u001b[0;31m \u001b[0mgraph\u001b[0m\u001b[0;34m=\u001b[0m\u001b[0mdf\u001b[0m\u001b[0;34m[\u001b[0m\u001b[0;34m'PIN'\u001b[0m\u001b[0;34m]\u001b[0m\u001b[0;34m.\u001b[0m\u001b[0mvalue_counts\u001b[0m\u001b[0;34m(\u001b[0m\u001b[0;34m)\u001b[0m\u001b[0;34m\u001b[0m\u001b[0m\n\u001b[0m",
      "\u001b[0;31mTypeError\u001b[0m: 'NoneType' object is not subscriptable"
     ]
    }
   ],
   "source": [
    "graph=df['PIN'].value_counts()"
   ]
  },
  {
   "cell_type": "code",
   "execution_count": 267,
   "metadata": {},
   "outputs": [
    {
     "ename": "TypeError",
     "evalue": "'NoneType' object is not subscriptable",
     "output_type": "error",
     "traceback": [
      "\u001b[0;31m---------------------------------------------------------------------------\u001b[0m",
      "\u001b[0;31mTypeError\u001b[0m                                 Traceback (most recent call last)",
      "\u001b[0;32m<ipython-input-267-0faa834bc5d3>\u001b[0m in \u001b[0;36m<module>\u001b[0;34m\u001b[0m\n\u001b[1;32m      3\u001b[0m \u001b[0mdf\u001b[0m \u001b[0;34m=\u001b[0m \u001b[0mdf\u001b[0m\u001b[0;34m.\u001b[0m\u001b[0mdropna\u001b[0m\u001b[0;34m(\u001b[0m\u001b[0msubset\u001b[0m\u001b[0;34m=\u001b[0m\u001b[0;34m[\u001b[0m\u001b[0;34m'PIN'\u001b[0m\u001b[0;34m]\u001b[0m\u001b[0;34m)\u001b[0m\u001b[0;34m\u001b[0m\u001b[0m\n\u001b[1;32m      4\u001b[0m \u001b[0mdf\u001b[0m \u001b[0;34m=\u001b[0m \u001b[0mdf\u001b[0m\u001b[0;34m.\u001b[0m\u001b[0mdrop\u001b[0m\u001b[0;34m(\u001b[0m\u001b[0mdf\u001b[0m\u001b[0;34m[\u001b[0m\u001b[0mdf\u001b[0m\u001b[0;34m[\u001b[0m\u001b[0;34m'PIN'\u001b[0m\u001b[0;34m]\u001b[0m \u001b[0;34m==\u001b[0m \u001b[0;34m'-'\u001b[0m \u001b[0;34m]\u001b[0m\u001b[0;34m.\u001b[0m\u001b[0mindex\u001b[0m \u001b[0;34m,\u001b[0m \u001b[0minplace\u001b[0m\u001b[0;34m=\u001b[0m\u001b[0;32mTrue\u001b[0m\u001b[0;34m)\u001b[0m\u001b[0;34m\u001b[0m\u001b[0m\n\u001b[0;32m----> 5\u001b[0;31m \u001b[0mgraph\u001b[0m\u001b[0;34m=\u001b[0m\u001b[0mdf\u001b[0m\u001b[0;34m[\u001b[0m\u001b[0;34m'PIN'\u001b[0m\u001b[0;34m]\u001b[0m\u001b[0;34m.\u001b[0m\u001b[0mvalue_counts\u001b[0m\u001b[0;34m(\u001b[0m\u001b[0;34m)\u001b[0m\u001b[0;34m\u001b[0m\u001b[0m\n\u001b[0m\u001b[1;32m      6\u001b[0m \u001b[0mgraph\u001b[0m\u001b[0;34m=\u001b[0m\u001b[0mgraph\u001b[0m\u001b[0;34m.\u001b[0m\u001b[0mdropna\u001b[0m\u001b[0;34m(\u001b[0m\u001b[0;34m)\u001b[0m\u001b[0;34m\u001b[0m\u001b[0m\n\u001b[1;32m      7\u001b[0m \u001b[0mx\u001b[0m\u001b[0;34m=\u001b[0m\u001b[0;34m(\u001b[0m\u001b[0mgraph\u001b[0m\u001b[0;34m.\u001b[0m\u001b[0mtolist\u001b[0m\u001b[0;34m(\u001b[0m\u001b[0;34m)\u001b[0m\u001b[0;34m)\u001b[0m\u001b[0;34m\u001b[0m\u001b[0m\n",
      "\u001b[0;31mTypeError\u001b[0m: 'NoneType' object is not subscriptable"
     ]
    }
   ],
   "source": [
    "graph=graph.dropna()\n",
    "x=(graph.tolist())\n",
    "y=[]\n",
    "for i in graph.index.tolist():\n",
    "    y.append(str(i))"
   ]
  },
  {
   "cell_type": "code",
   "execution_count": null,
   "metadata": {},
   "outputs": [],
   "source": []
  }
 ],
 "metadata": {
  "kernelspec": {
   "display_name": "Python 3",
   "language": "python",
   "name": "python3"
  },
  "language_info": {
   "codemirror_mode": {
    "name": "ipython",
    "version": 3
   },
   "file_extension": ".py",
   "mimetype": "text/x-python",
   "name": "python",
   "nbconvert_exporter": "python",
   "pygments_lexer": "ipython3",
   "version": "3.6.6"
  }
 },
 "nbformat": 4,
 "nbformat_minor": 2
}
